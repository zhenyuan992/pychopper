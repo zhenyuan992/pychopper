{
 "cells": [
  {
   "cell_type": "code",
   "execution_count": null,
   "id": "69ed3619",
   "metadata": {},
   "outputs": [],
   "source": []
  },
  {
   "cell_type": "code",
   "execution_count": 1,
   "id": "ccd8bcdb",
   "metadata": {},
   "outputs": [],
   "source": [
    "def analyse_hits(hits, config):\n",
    "    \"\"\" Segment reads based on alignment hits using dynamic programming.\n",
    "        The algorithm is based on the rule that each primer alignment hit can be used only once.\n",
    "        Hence if a segment is included, the next one has to be excluded.\n",
    "    \"\"\"\n",
    "    segments = _build_segments(hits, config)\n",
    "    nr = len(segments)\n",
    "\n",
    "    # No hits, return no segments:\n",
    "    if nr == 0:\n",
    "        return (), (), 0\n",
    "\n",
    "    # Initialize DP matrix and traceback dictionary:\n",
    "    M = np.zeros((2, nr), dtype=int)\n",
    "    B = dict()\n",
    "\n",
    "    # Initialize entry for the first segment:\n",
    "    M[1, 0] = segments[0].Len\n",
    "\n",
    "    # Fill in DP matrix:\n",
    "    for j in range(1, nr):\n",
    "        for i in range(2):\n",
    "            if i == 0:\n",
    "                # First row holds excluded segments.\n",
    "                # The can transition from eiter exluded or included segments:\n",
    "                M[i, j] = M[0, j - 1]\n",
    "                B[i, j] = (0, j - 1)\n",
    "                if M[1, j - 1] > M[0, j - 1]:\n",
    "                    M[i, j] = M[1, j - 1]\n",
    "                    B[i, j] = (1, j - 1)\n",
    "            elif i == 1:\n",
    "                # Included segments can only transition from previosuly excluded segments:\n",
    "                M[i, j] = M[0, j - 1] + segments[j].Len\n",
    "                B[i, j] = (0, j - 1)\n",
    "\n",
    "    tlen = np.argmax(M[:, nr - 1])\n",
    "    valid_segments = []\n",
    "\n",
    "    # Traceback and build solution:\n",
    "    p = (tlen, nr - 1)\n",
    "    while True:\n",
    "        if p[0] == 1:\n",
    "            s = segments[p[1]]\n",
    "            # Filter out invalid segments which can be part of the\n",
    "            # solution:\n",
    "            if s.Len > 0:\n",
    "                valid_segments.append(s)\n",
    "        if p[1] == 0:\n",
    "            break\n",
    "        p = B[p]\n",
    "\n",
    "    return tuple(valid_segments), hits, tlen\n"
   ]
  },
  {
   "cell_type": "code",
   "execution_count": 2,
   "id": "191e963f",
   "metadata": {},
   "outputs": [],
   "source": [
    "class hit:\n",
    "    def __init__(self, Query, RefStart,RefEnd):\n",
    "        self.Query = Query\n",
    "        self.RefStart = RefStart\n",
    "        self.RefEnd=RefEnd"
   ]
  },
  {
   "cell_type": "code",
   "execution_count": 3,
   "id": "3deccc1a",
   "metadata": {},
   "outputs": [],
   "source": [
    "N = 100000\n",
    "hits = [hit(q_,rs_,rs_+50) for q_,rs_,re_ in zip(range(N),range(N),range(N))]\n",
    "config = (3,4)"
   ]
  },
  {
   "cell_type": "code",
   "execution_count": 4,
   "id": "67342b83",
   "metadata": {},
   "outputs": [],
   "source": [
    "from pychopper.common_structures import Segment"
   ]
  },
  {
   "cell_type": "code",
   "execution_count": 5,
   "id": "2ce4d5fd",
   "metadata": {},
   "outputs": [],
   "source": [
    "def _build_segments(hits, config):\n",
    "    \"Build tuple of segments\"\n",
    "    segments = []\n",
    "    if len(hits) == 0:\n",
    "        return tuple(segments)\n",
    "    for s in zip(hits, hits[1:]):\n",
    "        strand = None\n",
    "        seg_len = 0\n",
    "        c = (s[0].Query, s[1].Query)\n",
    "        if c in config:\n",
    "            strand = config[c]\n",
    "            seg_len = s[1].RefStart - s[0].RefEnd\n",
    "        segments.append(Segment(s[0].RefStart, s[0].RefEnd, s[1].RefStart, s[1].RefEnd, strand, seg_len))\n",
    "    return tuple(segments)"
   ]
  },
  {
   "cell_type": "code",
   "execution_count": 6,
   "id": "7b90c594",
   "metadata": {},
   "outputs": [],
   "source": [
    "def _build_segments2(hits, config):\n",
    "    \"Build tuple of segments\"\n",
    "    segments = []\n",
    "    if len(hits) == 0:\n",
    "        return tuple(segments)\n",
    "    for s0,s1 in zip(hits, hits[1:]):\n",
    "        strand = None\n",
    "        seg_len = 0\n",
    "        c = (s0.Query, s1.Query)\n",
    "        if c in config:\n",
    "            strand = config[c]\n",
    "            seg_len = s1.RefStart - s0.RefEnd\n",
    "        segments.append(Segment(s0.RefStart, s0.RefEnd, s1.RefStart, s1.RefEnd, strand, seg_len))\n",
    "    return tuple(segments)"
   ]
  },
  {
   "cell_type": "code",
   "execution_count": 7,
   "id": "ac8eec4a",
   "metadata": {},
   "outputs": [
    {
     "name": "stdout",
     "output_type": "stream",
     "text": [
      "101 ms ± 6.35 ms per loop (mean ± std. dev. of 7 runs, 10 loops each)\n"
     ]
    }
   ],
   "source": [
    "%%timeit -n 10\n",
    "_build_segments(hits,config)"
   ]
  },
  {
   "cell_type": "code",
   "execution_count": 8,
   "id": "ab9ce722",
   "metadata": {},
   "outputs": [
    {
     "name": "stdout",
     "output_type": "stream",
     "text": [
      "77.8 ms ± 1.09 ms per loop (mean ± std. dev. of 7 runs, 10 loops each)\n"
     ]
    }
   ],
   "source": [
    "%%timeit -n 10\n",
    "_build_segments2(hits,config)"
   ]
  },
  {
   "cell_type": "code",
   "execution_count": 9,
   "id": "229ce6e5",
   "metadata": {},
   "outputs": [
    {
     "data": {
      "text/plain": [
       "True"
      ]
     },
     "execution_count": 9,
     "metadata": {},
     "output_type": "execute_result"
    }
   ],
   "source": [
    "_build_segments(hits,config) == _build_segments2(hits,config)"
   ]
  },
  {
   "cell_type": "code",
   "execution_count": null,
   "id": "84c6030b",
   "metadata": {},
   "outputs": [],
   "source": []
  }
 ],
 "metadata": {
  "kernelspec": {
   "display_name": "Python 3 (ipykernel)",
   "language": "python",
   "name": "python3"
  },
  "language_info": {
   "codemirror_mode": {
    "name": "ipython",
    "version": 3
   },
   "file_extension": ".py",
   "mimetype": "text/x-python",
   "name": "python",
   "nbconvert_exporter": "python",
   "pygments_lexer": "ipython3",
   "version": "3.9.7"
  }
 },
 "nbformat": 4,
 "nbformat_minor": 5
}
