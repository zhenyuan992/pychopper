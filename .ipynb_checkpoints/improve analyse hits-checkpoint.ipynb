{
 "cells": [
  {
   "cell_type": "code",
   "execution_count": 1,
   "id": "b416e445",
   "metadata": {},
   "outputs": [],
   "source": [
    "import numpy as np\n",
    "class hit:\n",
    "    def __init__(self, Query, RefStart,RefEnd):\n",
    "        self.Query = Query\n",
    "        self.RefStart = RefStart\n",
    "        self.RefEnd=RefEnd\n",
    "N = 500000\n",
    "hits = [hit(q_,rs_,rs_) for q_,rs_,re_ in zip(np.random.randint(5,200,N),np.random.randint(5,200,N),np.random.randint(5,200,N))]\n",
    "config = (3,4)"
   ]
  },
  {
   "cell_type": "code",
   "execution_count": 2,
   "id": "4111ecf0",
   "metadata": {},
   "outputs": [],
   "source": [
    "from pychopper.common_structures import Segment\n",
    "#import numpy as np"
   ]
  },
  {
   "cell_type": "code",
   "execution_count": 3,
   "id": "5be16e59",
   "metadata": {},
   "outputs": [],
   "source": [
    "def _build_segments(hits, config):\n",
    "    \"Build tuple of segments\"\n",
    "    segments = []\n",
    "    if len(hits) == 0:\n",
    "        return tuple(segments)\n",
    "    for s in zip(hits, hits[1:]):\n",
    "        strand = None\n",
    "        seg_len = 0\n",
    "        c = (s[0].Query, s[1].Query)\n",
    "        if c in config:\n",
    "            strand = config[c]\n",
    "            seg_len = s[1].RefStart - s[0].RefEnd\n",
    "        segments.append(Segment(s[0].RefStart, s[0].RefEnd, s[1].RefStart, s[1].RefEnd, strand, seg_len))\n",
    "    return tuple(segments)"
   ]
  },
  {
   "cell_type": "code",
   "execution_count": 4,
   "id": "fab0c987",
   "metadata": {},
   "outputs": [],
   "source": [
    "# def analyse_hits(hits, config):\n",
    "#     \"\"\" Segment reads based on alignment hits using dynamic programming.\n",
    "#         The algorithm is based on the rule that each primer alignment hit can be used only once.\n",
    "#         Hence if a segment is included, the next one has to be excluded.\n",
    "#     \"\"\""
   ]
  },
  {
   "cell_type": "code",
   "execution_count": 5,
   "id": "ed460963",
   "metadata": {},
   "outputs": [],
   "source": [
    "segments = _build_segments(hits, config)\n",
    "nr = len(segments)\n",
    "\n",
    "# No hits, return no segments:\n",
    "#if nr == 0:\n",
    "#    return (), (), 0\n",
    "\n",
    "# Initialize DP matrix and traceback dictionary:\n",
    "M = np.zeros((2, nr), dtype=int)\n",
    "B = dict()\n",
    "\n",
    "# Initialize entry for the first segment:\n",
    "M[1, 0] = segments[0].Len"
   ]
  },
  {
   "cell_type": "code",
   "execution_count": 6,
   "id": "53941c61",
   "metadata": {},
   "outputs": [
    {
     "name": "stdout",
     "output_type": "stream",
     "text": [
      "Wall time: 1.45 s\n"
     ]
    }
   ],
   "source": [
    "%%time\n",
    "# Fill in DP matrix:\n",
    "for j in range(1, nr):\n",
    "    for i in range(2):\n",
    "        if i == 0:\n",
    "            # First row holds excluded segments.\n",
    "            # The can transition from eiter exluded or included segments:\n",
    "            M[i, j] = M[0, j - 1]\n",
    "            B[i, j] = (0, j - 1)\n",
    "            if M[1, j - 1] > M[0, j - 1]:\n",
    "                M[i, j] = M[1, j - 1]\n",
    "                B[i, j] = (1, j - 1)\n",
    "        elif i == 1:\n",
    "            # Included segments can only transition from previosuly excluded segments:\n",
    "            M[i, j] = M[0, j - 1] + segments[j].Len\n",
    "            B[i, j] = (0, j - 1)"
   ]
  },
  {
   "cell_type": "code",
   "execution_count": 7,
   "id": "f4fdb163",
   "metadata": {},
   "outputs": [],
   "source": [
    "B_old = list(B.items())"
   ]
  },
  {
   "cell_type": "code",
   "execution_count": 8,
   "id": "38a439fc",
   "metadata": {},
   "outputs": [],
   "source": [
    "segments = _build_segments(hits, config)\n",
    "nr = len(segments)\n",
    "M = np.zeros((2, nr), dtype=int)\n",
    "B = dict()\n",
    "M[1, 0] = segments[0].Len"
   ]
  },
  {
   "cell_type": "code",
   "execution_count": 9,
   "id": "60c29f91",
   "metadata": {},
   "outputs": [
    {
     "name": "stdout",
     "output_type": "stream",
     "text": [
      "Wall time: 1.18 s\n"
     ]
    }
   ],
   "source": [
    "%%time\n",
    "# Fill in DP matrix:\n",
    "for j in range(1, nr):\n",
    "    # First row holds excluded segments.\n",
    "    # The can transition from eiter exluded or included segments:\n",
    "    M[0, j] = M[0, j - 1]\n",
    "    B[0, j] = (0, j - 1)\n",
    "    if M[1, j - 1] > M[0, j - 1]:\n",
    "        M[0, j] = M[1, j - 1]\n",
    "        B[0, j] = (1, j - 1) \n",
    "    # Included segments can only transition from previously excluded segments:\n",
    "    M[1, j] = M[0, j - 1] + segments[j].Len\n",
    "    B[1, j] = (0, j - 1)"
   ]
  },
  {
   "cell_type": "code",
   "execution_count": 10,
   "id": "1b8e6be3",
   "metadata": {},
   "outputs": [
    {
     "data": {
      "text/plain": [
       "True"
      ]
     },
     "execution_count": 10,
     "metadata": {},
     "output_type": "execute_result"
    }
   ],
   "source": [
    "B_old == list(B.items())"
   ]
  },
  {
   "cell_type": "code",
   "execution_count": null,
   "id": "878c784e",
   "metadata": {},
   "outputs": [],
   "source": []
  }
 ],
 "metadata": {
  "kernelspec": {
   "display_name": "Python 3 (ipykernel)",
   "language": "python",
   "name": "python3"
  },
  "language_info": {
   "codemirror_mode": {
    "name": "ipython",
    "version": 3
   },
   "file_extension": ".py",
   "mimetype": "text/x-python",
   "name": "python",
   "nbconvert_exporter": "python",
   "pygments_lexer": "ipython3",
   "version": "3.9.7"
  }
 },
 "nbformat": 4,
 "nbformat_minor": 5
}
